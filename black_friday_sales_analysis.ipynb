{
 "cells": [
  {
   "cell_type": "markdown",
   "id": "f4c1d8ae",
   "metadata": {
    "papermill": {
     "duration": 0.019587,
     "end_time": "2023-01-24T07:37:46.377626",
     "exception": false,
     "start_time": "2023-01-24T07:37:46.358039",
     "status": "completed"
    },
    "tags": []
   },
   "source": [
    "# Black Friday Sales Analysis\n",
    "\n",
    "A retail company “ABC Private Limited” wants to understand the customer purchase behaviour (specifically, purchase amount) against various products of different categories. They have shared purchase summaries of various customers for selected high-volume products from last month.\n",
    "\n",
    "The data set also contains customer demographics (age, gender, marital status, city type, stay in the current city), product details (productid and product category) and Total purchase amount from last month.\n",
    "\n",
    "They want to analyze purchase amount of customers against various categories"
   ]
  },
  {
   "cell_type": "code",
   "execution_count": 1,
   "id": "fc1a4131",
   "metadata": {
    "_cell_guid": "b1076dfc-b9ad-4769-8c92-a6c4dae69d19",
    "_uuid": "8f2839f25d086af736a60e9eeb907d3b93b6e0e5",
    "papermill": {
     "duration": 1.044821,
     "end_time": "2023-01-24T07:37:47.438398",
     "exception": false,
     "start_time": "2023-01-24T07:37:46.393577",
     "status": "completed"
    },
    "tags": []
   },
   "outputs": [],
   "source": [
    "import numpy as np \n",
    "import pandas as pd\n",
    "import seaborn as sns\n",
    "import matplotlib.pyplot as plt\n",
    "import warnings\n",
    "warnings.filterwarnings('ignore')"
   ]
  },
  {
   "cell_type": "code",
   "execution_count": 2,
   "id": "386d04ff",
   "metadata": {
    "papermill": {
     "duration": 0.931114,
     "end_time": "2023-01-24T07:37:48.386185",
     "exception": false,
     "start_time": "2023-01-24T07:37:47.455071",
     "status": "completed"
    },
    "tags": []
   },
   "outputs": [],
   "source": [
    "bfs=pd.read_csv(\"black_friday_sales_data.csv\")"
   ]
  },
  {
   "cell_type": "code",
   "execution_count": 3,
   "id": "dac0f719",
   "metadata": {
    "papermill": {
     "duration": 0.043742,
     "end_time": "2023-01-24T07:37:48.446425",
     "exception": false,
     "start_time": "2023-01-24T07:37:48.402683",
     "status": "completed"
    },
    "tags": []
   },
   "outputs": [
    {
     "data": {
      "text/html": [
       "<div>\n",
       "<style scoped>\n",
       "    .dataframe tbody tr th:only-of-type {\n",
       "        vertical-align: middle;\n",
       "    }\n",
       "\n",
       "    .dataframe tbody tr th {\n",
       "        vertical-align: top;\n",
       "    }\n",
       "\n",
       "    .dataframe thead th {\n",
       "        text-align: right;\n",
       "    }\n",
       "</style>\n",
       "<table border=\"1\" class=\"dataframe\">\n",
       "  <thead>\n",
       "    <tr style=\"text-align: right;\">\n",
       "      <th></th>\n",
       "      <th>User_ID</th>\n",
       "      <th>Product_ID</th>\n",
       "      <th>Gender</th>\n",
       "      <th>Age</th>\n",
       "      <th>Occupation</th>\n",
       "      <th>City_Category</th>\n",
       "      <th>Stay_In_Current_City_Years</th>\n",
       "      <th>Marital_Status</th>\n",
       "      <th>Product_Category_1</th>\n",
       "      <th>Product_Category_2</th>\n",
       "      <th>Product_Category_3</th>\n",
       "      <th>Purchase</th>\n",
       "    </tr>\n",
       "  </thead>\n",
       "  <tbody>\n",
       "    <tr>\n",
       "      <th>0</th>\n",
       "      <td>1000001</td>\n",
       "      <td>P00069042</td>\n",
       "      <td>F</td>\n",
       "      <td>0-17</td>\n",
       "      <td>10</td>\n",
       "      <td>A</td>\n",
       "      <td>2</td>\n",
       "      <td>0</td>\n",
       "      <td>3</td>\n",
       "      <td>NaN</td>\n",
       "      <td>NaN</td>\n",
       "      <td>8370</td>\n",
       "    </tr>\n",
       "    <tr>\n",
       "      <th>1</th>\n",
       "      <td>1000001</td>\n",
       "      <td>P00248942</td>\n",
       "      <td>F</td>\n",
       "      <td>0-17</td>\n",
       "      <td>10</td>\n",
       "      <td>A</td>\n",
       "      <td>2</td>\n",
       "      <td>0</td>\n",
       "      <td>1</td>\n",
       "      <td>6.0</td>\n",
       "      <td>14.0</td>\n",
       "      <td>15200</td>\n",
       "    </tr>\n",
       "    <tr>\n",
       "      <th>2</th>\n",
       "      <td>1000001</td>\n",
       "      <td>P00087842</td>\n",
       "      <td>F</td>\n",
       "      <td>0-17</td>\n",
       "      <td>10</td>\n",
       "      <td>A</td>\n",
       "      <td>2</td>\n",
       "      <td>0</td>\n",
       "      <td>12</td>\n",
       "      <td>NaN</td>\n",
       "      <td>NaN</td>\n",
       "      <td>1422</td>\n",
       "    </tr>\n",
       "    <tr>\n",
       "      <th>3</th>\n",
       "      <td>1000001</td>\n",
       "      <td>P00085442</td>\n",
       "      <td>F</td>\n",
       "      <td>0-17</td>\n",
       "      <td>10</td>\n",
       "      <td>A</td>\n",
       "      <td>2</td>\n",
       "      <td>0</td>\n",
       "      <td>12</td>\n",
       "      <td>14.0</td>\n",
       "      <td>NaN</td>\n",
       "      <td>1057</td>\n",
       "    </tr>\n",
       "    <tr>\n",
       "      <th>4</th>\n",
       "      <td>1000002</td>\n",
       "      <td>P00285442</td>\n",
       "      <td>M</td>\n",
       "      <td>55+</td>\n",
       "      <td>16</td>\n",
       "      <td>C</td>\n",
       "      <td>4+</td>\n",
       "      <td>0</td>\n",
       "      <td>8</td>\n",
       "      <td>NaN</td>\n",
       "      <td>NaN</td>\n",
       "      <td>7969</td>\n",
       "    </tr>\n",
       "  </tbody>\n",
       "</table>\n",
       "</div>"
      ],
      "text/plain": [
       "   User_ID Product_ID Gender   Age  Occupation City_Category  \\\n",
       "0  1000001  P00069042      F  0-17          10             A   \n",
       "1  1000001  P00248942      F  0-17          10             A   \n",
       "2  1000001  P00087842      F  0-17          10             A   \n",
       "3  1000001  P00085442      F  0-17          10             A   \n",
       "4  1000002  P00285442      M   55+          16             C   \n",
       "\n",
       "  Stay_In_Current_City_Years  Marital_Status  Product_Category_1  \\\n",
       "0                          2               0                   3   \n",
       "1                          2               0                   1   \n",
       "2                          2               0                  12   \n",
       "3                          2               0                  12   \n",
       "4                         4+               0                   8   \n",
       "\n",
       "   Product_Category_2  Product_Category_3  Purchase  \n",
       "0                 NaN                 NaN      8370  \n",
       "1                 6.0                14.0     15200  \n",
       "2                 NaN                 NaN      1422  \n",
       "3                14.0                 NaN      1057  \n",
       "4                 NaN                 NaN      7969  "
      ]
     },
     "execution_count": 3,
     "metadata": {},
     "output_type": "execute_result"
    }
   ],
   "source": [
    "bfs.head()"
   ]
  },
  {
   "cell_type": "markdown",
   "id": "7b79a758",
   "metadata": {
    "papermill": {
     "duration": 0.015744,
     "end_time": "2023-01-24T07:37:48.478284",
     "exception": false,
     "start_time": "2023-01-24T07:37:48.462540",
     "status": "completed"
    },
    "tags": []
   },
   "source": [
    "## Reading information about data"
   ]
  },
  {
   "cell_type": "code",
   "execution_count": 4,
   "id": "80296d8a",
   "metadata": {
    "papermill": {
     "duration": 0.162734,
     "end_time": "2023-01-24T07:37:48.656933",
     "exception": false,
     "start_time": "2023-01-24T07:37:48.494199",
     "status": "completed"
    },
    "tags": []
   },
   "outputs": [
    {
     "name": "stdout",
     "output_type": "stream",
     "text": [
      "<class 'pandas.core.frame.DataFrame'>\n",
      "RangeIndex: 550068 entries, 0 to 550067\n",
      "Data columns (total 12 columns):\n",
      " #   Column                      Non-Null Count   Dtype  \n",
      "---  ------                      --------------   -----  \n",
      " 0   User_ID                     550068 non-null  int64  \n",
      " 1   Product_ID                  550068 non-null  object \n",
      " 2   Gender                      550068 non-null  object \n",
      " 3   Age                         550068 non-null  object \n",
      " 4   Occupation                  550068 non-null  int64  \n",
      " 5   City_Category               550068 non-null  object \n",
      " 6   Stay_In_Current_City_Years  550068 non-null  object \n",
      " 7   Marital_Status              550068 non-null  int64  \n",
      " 8   Product_Category_1          550068 non-null  int64  \n",
      " 9   Product_Category_2          376430 non-null  float64\n",
      " 10  Product_Category_3          166821 non-null  float64\n",
      " 11  Purchase                    550068 non-null  int64  \n",
      "dtypes: float64(2), int64(5), object(5)\n",
      "memory usage: 50.4+ MB\n"
     ]
    }
   ],
   "source": [
    "bfs.info()"
   ]
  },
  {
   "cell_type": "code",
   "execution_count": 5,
   "id": "afe848fe",
   "metadata": {
    "papermill": {
     "duration": 0.027151,
     "end_time": "2023-01-24T07:37:48.701291",
     "exception": false,
     "start_time": "2023-01-24T07:37:48.674140",
     "status": "completed"
    },
    "tags": []
   },
   "outputs": [
    {
     "data": {
      "text/plain": [
       "Index(['User_ID', 'Product_ID', 'Gender', 'Age', 'Occupation', 'City_Category',\n",
       "       'Stay_In_Current_City_Years', 'Marital_Status', 'Product_Category_1',\n",
       "       'Product_Category_2', 'Product_Category_3', 'Purchase'],\n",
       "      dtype='object')"
      ]
     },
     "execution_count": 5,
     "metadata": {},
     "output_type": "execute_result"
    }
   ],
   "source": [
    "bfs.columns"
   ]
  },
  {
   "cell_type": "code",
   "execution_count": 6,
   "id": "9b2159d9",
   "metadata": {
    "papermill": {
     "duration": 0.397688,
     "end_time": "2023-01-24T07:37:49.116187",
     "exception": false,
     "start_time": "2023-01-24T07:37:48.718499",
     "status": "completed"
    },
    "tags": []
   },
   "outputs": [
    {
     "data": {
      "text/plain": [
       "False    550068\n",
       "Name: count, dtype: int64"
      ]
     },
     "execution_count": 6,
     "metadata": {},
     "output_type": "execute_result"
    }
   ],
   "source": [
    "bfs.duplicated().value_counts()"
   ]
  },
  {
   "cell_type": "markdown",
   "id": "e0836e97",
   "metadata": {
    "papermill": {
     "duration": 0.016532,
     "end_time": "2023-01-24T07:37:49.149489",
     "exception": false,
     "start_time": "2023-01-24T07:37:49.132957",
     "status": "completed"
    },
    "tags": []
   },
   "source": [
    "We having total 550068 number of rows data including NaN value with no duplicated data. "
   ]
  },
  {
   "cell_type": "code",
   "execution_count": 7,
   "id": "beb56bef",
   "metadata": {
    "papermill": {
     "duration": 0.026039,
     "end_time": "2023-01-24T07:37:49.192952",
     "exception": false,
     "start_time": "2023-01-24T07:37:49.166913",
     "status": "completed"
    },
    "tags": []
   },
   "outputs": [],
   "source": [
    "bfs.rename(columns=str.lower,inplace=True) #Convertig all the columns name in the lowercase for easy use."
   ]
  },
  {
   "cell_type": "code",
   "execution_count": 8,
   "id": "4fcfc973",
   "metadata": {
    "papermill": {
     "duration": 0.028254,
     "end_time": "2023-01-24T07:37:49.238908",
     "exception": false,
     "start_time": "2023-01-24T07:37:49.210654",
     "status": "completed"
    },
    "tags": []
   },
   "outputs": [
    {
     "data": {
      "text/plain": [
       "Index(['user_id', 'product_id', 'gender', 'age', 'occupation', 'city_category',\n",
       "       'stay_in_current_city_years', 'marital_status', 'product_category_1',\n",
       "       'product_category_2', 'product_category_3', 'purchase'],\n",
       "      dtype='object')"
      ]
     },
     "execution_count": 8,
     "metadata": {},
     "output_type": "execute_result"
    }
   ],
   "source": [
    "bfs.columns"
   ]
  },
  {
   "cell_type": "markdown",
   "id": "1313087a",
   "metadata": {
    "papermill": {
     "duration": 0.016239,
     "end_time": "2023-01-24T07:37:49.272438",
     "exception": false,
     "start_time": "2023-01-24T07:37:49.256199",
     "status": "completed"
    },
    "tags": []
   },
   "source": [
    "## Procecssing each column Individually"
   ]
  },
  {
   "cell_type": "markdown",
   "id": "a48e4753",
   "metadata": {
    "papermill": {
     "duration": 0.016262,
     "end_time": "2023-01-24T07:37:49.305391",
     "exception": false,
     "start_time": "2023-01-24T07:37:49.289129",
     "status": "completed"
    },
    "tags": []
   },
   "source": [
    "### user_id: \n",
    "\n",
    "It is nothing but a unique customer id's."
   ]
  },
  {
   "cell_type": "code",
   "execution_count": 9,
   "id": "d4893a43",
   "metadata": {
    "papermill": {
     "duration": 0.027153,
     "end_time": "2023-01-24T07:37:49.348674",
     "exception": false,
     "start_time": "2023-01-24T07:37:49.321521",
     "status": "completed"
    },
    "tags": []
   },
   "outputs": [
    {
     "data": {
      "text/plain": [
       "0         1000001\n",
       "1         1000001\n",
       "2         1000001\n",
       "3         1000001\n",
       "4         1000002\n",
       "           ...   \n",
       "550063    1006033\n",
       "550064    1006035\n",
       "550065    1006036\n",
       "550066    1006038\n",
       "550067    1006039\n",
       "Name: user_id, Length: 550068, dtype: int64"
      ]
     },
     "execution_count": 9,
     "metadata": {},
     "output_type": "execute_result"
    }
   ],
   "source": [
    "bfs.user_id"
   ]
  },
  {
   "cell_type": "markdown",
   "id": "566413fd",
   "metadata": {
    "papermill": {
     "duration": 0.016039,
     "end_time": "2023-01-24T07:37:49.380976",
     "exception": false,
     "start_time": "2023-01-24T07:37:49.364937",
     "status": "completed"
    },
    "tags": []
   },
   "source": [
    "### product_id: \n",
    "\n",
    "It is nothing but a unique product id's which are available in store."
   ]
  },
  {
   "cell_type": "code",
   "execution_count": 10,
   "id": "5684cd97",
   "metadata": {
    "papermill": {
     "duration": 0.026872,
     "end_time": "2023-01-24T07:37:49.424530",
     "exception": false,
     "start_time": "2023-01-24T07:37:49.397658",
     "status": "completed"
    },
    "tags": []
   },
   "outputs": [
    {
     "data": {
      "text/plain": [
       "0         P00069042\n",
       "1         P00248942\n",
       "2         P00087842\n",
       "3         P00085442\n",
       "4         P00285442\n",
       "            ...    \n",
       "550063    P00372445\n",
       "550064    P00375436\n",
       "550065    P00375436\n",
       "550066    P00375436\n",
       "550067    P00371644\n",
       "Name: product_id, Length: 550068, dtype: object"
      ]
     },
     "execution_count": 10,
     "metadata": {},
     "output_type": "execute_result"
    }
   ],
   "source": [
    "bfs.product_id"
   ]
  },
  {
   "cell_type": "markdown",
   "id": "8e5d0008",
   "metadata": {
    "papermill": {
     "duration": 0.016219,
     "end_time": "2023-01-24T07:37:49.457061",
     "exception": false,
     "start_time": "2023-01-24T07:37:49.440842",
     "status": "completed"
    },
    "tags": []
   },
   "source": [
    "### gender: \n",
    "\n",
    "Column contains gender information with ['M','F'] values."
   ]
  },
  {
   "cell_type": "code",
   "execution_count": 11,
   "id": "0a568143",
   "metadata": {
    "papermill": {
     "duration": 0.05842,
     "end_time": "2023-01-24T07:37:49.531898",
     "exception": false,
     "start_time": "2023-01-24T07:37:49.473478",
     "status": "completed"
    },
    "tags": []
   },
   "outputs": [
    {
     "data": {
      "text/plain": [
       "array(['F', 'M'], dtype=object)"
      ]
     },
     "execution_count": 11,
     "metadata": {},
     "output_type": "execute_result"
    }
   ],
   "source": [
    "bfs.gender.unique()"
   ]
  },
  {
   "cell_type": "code",
   "execution_count": 12,
   "id": "8a2ec514",
   "metadata": {
    "papermill": {
     "duration": 0.034027,
     "end_time": "2023-01-24T07:37:49.582540",
     "exception": false,
     "start_time": "2023-01-24T07:37:49.548513",
     "status": "completed"
    },
    "tags": []
   },
   "outputs": [
    {
     "data": {
      "text/html": [
       "<div>\n",
       "<style scoped>\n",
       "    .dataframe tbody tr th:only-of-type {\n",
       "        vertical-align: middle;\n",
       "    }\n",
       "\n",
       "    .dataframe tbody tr th {\n",
       "        vertical-align: top;\n",
       "    }\n",
       "\n",
       "    .dataframe thead th {\n",
       "        text-align: right;\n",
       "    }\n",
       "</style>\n",
       "<table border=\"1\" class=\"dataframe\">\n",
       "  <thead>\n",
       "    <tr style=\"text-align: right;\">\n",
       "      <th></th>\n",
       "      <th>user_id</th>\n",
       "      <th>product_id</th>\n",
       "      <th>gender</th>\n",
       "      <th>age</th>\n",
       "      <th>occupation</th>\n",
       "      <th>city_category</th>\n",
       "      <th>stay_in_current_city_years</th>\n",
       "      <th>marital_status</th>\n",
       "      <th>product_category_1</th>\n",
       "      <th>product_category_2</th>\n",
       "      <th>product_category_3</th>\n",
       "      <th>purchase</th>\n",
       "    </tr>\n",
       "  </thead>\n",
       "  <tbody>\n",
       "    <tr>\n",
       "      <th>0</th>\n",
       "      <td>1000001</td>\n",
       "      <td>P00069042</td>\n",
       "      <td>F</td>\n",
       "      <td>0-17</td>\n",
       "      <td>10</td>\n",
       "      <td>A</td>\n",
       "      <td>2</td>\n",
       "      <td>0</td>\n",
       "      <td>3</td>\n",
       "      <td>NaN</td>\n",
       "      <td>NaN</td>\n",
       "      <td>8370</td>\n",
       "    </tr>\n",
       "    <tr>\n",
       "      <th>1</th>\n",
       "      <td>1000001</td>\n",
       "      <td>P00248942</td>\n",
       "      <td>F</td>\n",
       "      <td>0-17</td>\n",
       "      <td>10</td>\n",
       "      <td>A</td>\n",
       "      <td>2</td>\n",
       "      <td>0</td>\n",
       "      <td>1</td>\n",
       "      <td>6.0</td>\n",
       "      <td>14.0</td>\n",
       "      <td>15200</td>\n",
       "    </tr>\n",
       "  </tbody>\n",
       "</table>\n",
       "</div>"
      ],
      "text/plain": [
       "   user_id product_id gender   age  occupation city_category  \\\n",
       "0  1000001  P00069042      F  0-17          10             A   \n",
       "1  1000001  P00248942      F  0-17          10             A   \n",
       "\n",
       "  stay_in_current_city_years  marital_status  product_category_1  \\\n",
       "0                          2               0                   3   \n",
       "1                          2               0                   1   \n",
       "\n",
       "   product_category_2  product_category_3  purchase  \n",
       "0                 NaN                 NaN      8370  \n",
       "1                 6.0                14.0     15200  "
      ]
     },
     "execution_count": 12,
     "metadata": {},
     "output_type": "execute_result"
    }
   ],
   "source": [
    "bfs.head(2)"
   ]
  },
  {
   "cell_type": "markdown",
   "id": "6e12f39b",
   "metadata": {
    "papermill": {
     "duration": 0.016407,
     "end_time": "2023-01-24T07:37:49.615341",
     "exception": false,
     "start_time": "2023-01-24T07:37:49.598934",
     "status": "completed"
    },
    "tags": []
   },
   "source": [
    "### age:\n",
    "\n",
    "Column contains Age category of customers."
   ]
  },
  {
   "cell_type": "code",
   "execution_count": 13,
   "id": "8863d3b3",
   "metadata": {
    "papermill": {
     "duration": 0.063523,
     "end_time": "2023-01-24T07:37:49.695534",
     "exception": false,
     "start_time": "2023-01-24T07:37:49.632011",
     "status": "completed"
    },
    "tags": []
   },
   "outputs": [
    {
     "data": {
      "text/plain": [
       "array(['0-17', '55+', '26-35', '46-50', '51-55', '36-45', '18-25'],\n",
       "      dtype=object)"
      ]
     },
     "execution_count": 13,
     "metadata": {},
     "output_type": "execute_result"
    }
   ],
   "source": [
    "bfs.age.unique()"
   ]
  },
  {
   "cell_type": "markdown",
   "id": "e9513303",
   "metadata": {
    "papermill": {
     "duration": 0.015617,
     "end_time": "2023-01-24T07:37:49.728048",
     "exception": false,
     "start_time": "2023-01-24T07:37:49.712431",
     "status": "completed"
    },
    "tags": []
   },
   "source": [
    "We have total 7 age category customers data.\n",
    "\n",
    "'0-17', '18-25', '26-35', '36-45', '46-50', '51-55' and '55+'.\n"
   ]
  },
  {
   "cell_type": "markdown",
   "id": "505b3d2f",
   "metadata": {
    "papermill": {
     "duration": 0.016366,
     "end_time": "2023-01-24T07:37:49.760827",
     "exception": false,
     "start_time": "2023-01-24T07:37:49.744461",
     "status": "completed"
    },
    "tags": []
   },
   "source": [
    "### occupation:\n",
    "\n",
    "Contains Occupation information of customers in the form of masked value format."
   ]
  },
  {
   "cell_type": "code",
   "execution_count": 14,
   "id": "81884f07",
   "metadata": {
    "papermill": {
     "duration": 0.0357,
     "end_time": "2023-01-24T07:37:49.813296",
     "exception": false,
     "start_time": "2023-01-24T07:37:49.777596",
     "status": "completed"
    },
    "tags": []
   },
   "outputs": [
    {
     "data": {
      "text/plain": [
       "(array([10, 16, 15,  7, 20,  9,  1, 12, 17,  0,  3,  4, 11,  8, 19,  2, 18,\n",
       "         5, 14, 13,  6]),\n",
       " 21,\n",
       " dtype('int64'))"
      ]
     },
     "execution_count": 14,
     "metadata": {},
     "output_type": "execute_result"
    }
   ],
   "source": [
    "bfs.occupation.unique(),len(bfs.occupation.unique()),bfs.occupation.dtype"
   ]
  },
  {
   "cell_type": "markdown",
   "id": "3b7bd7ed",
   "metadata": {
    "papermill": {
     "duration": 0.016832,
     "end_time": "2023-01-24T07:37:49.847026",
     "exception": false,
     "start_time": "2023-01-24T07:37:49.830194",
     "status": "completed"
    },
    "tags": []
   },
   "source": [
    "We have 21 occupations type of customers "
   ]
  },
  {
   "cell_type": "markdown",
   "id": "a0b3edbb",
   "metadata": {
    "papermill": {
     "duration": 0.017239,
     "end_time": "2023-01-24T07:37:49.881146",
     "exception": false,
     "start_time": "2023-01-24T07:37:49.863907",
     "status": "completed"
    },
    "tags": []
   },
   "source": [
    "### city_category\n",
    "\n",
    "Contains information of cities category wise "
   ]
  },
  {
   "cell_type": "code",
   "execution_count": 15,
   "id": "1f5fdf9a",
   "metadata": {
    "papermill": {
     "duration": 0.058757,
     "end_time": "2023-01-24T07:37:49.956933",
     "exception": false,
     "start_time": "2023-01-24T07:37:49.898176",
     "status": "completed"
    },
    "tags": []
   },
   "outputs": [
    {
     "data": {
      "text/plain": [
       "array(['A', 'C', 'B'], dtype=object)"
      ]
     },
     "execution_count": 15,
     "metadata": {},
     "output_type": "execute_result"
    }
   ],
   "source": [
    "bfs.city_category.unique()"
   ]
  },
  {
   "cell_type": "markdown",
   "id": "615bf63b",
   "metadata": {
    "papermill": {
     "duration": 0.016746,
     "end_time": "2023-01-24T07:37:49.990660",
     "exception": false,
     "start_time": "2023-01-24T07:37:49.973914",
     "status": "completed"
    },
    "tags": []
   },
   "source": [
    "### stay_in_current_city_years:\n",
    "\n",
    "Contains total number years indicating that the information of customers whose belonging to current city. "
   ]
  },
  {
   "cell_type": "code",
   "execution_count": 16,
   "id": "4a5e3808",
   "metadata": {
    "papermill": {
     "duration": 0.061544,
     "end_time": "2023-01-24T07:37:50.069445",
     "exception": false,
     "start_time": "2023-01-24T07:37:50.007901",
     "status": "completed"
    },
    "tags": []
   },
   "outputs": [
    {
     "data": {
      "text/plain": [
       "array(['2', '4+', '3', '1', '0'], dtype=object)"
      ]
     },
     "execution_count": 16,
     "metadata": {},
     "output_type": "execute_result"
    }
   ],
   "source": [
    "bfs.stay_in_current_city_years.unique()"
   ]
  },
  {
   "cell_type": "markdown",
   "id": "2f40d5ff",
   "metadata": {
    "papermill": {
     "duration": 0.01703,
     "end_time": "2023-01-24T07:37:50.103781",
     "exception": false,
     "start_time": "2023-01-24T07:37:50.086751",
     "status": "completed"
    },
    "tags": []
   },
   "source": [
    "We have customer who are staying in city from '0', '1', '2', '3', '4+' years.\n",
    "\n",
    "We  can replace '4+' years to '4' so we can get excat number and we can assume that those customer are belonging to current city form 4 years are staying more than 4 years in the current city."
   ]
  },
  {
   "cell_type": "code",
   "execution_count": 17,
   "id": "47135b4f",
   "metadata": {
    "papermill": {
     "duration": 0.107928,
     "end_time": "2023-01-24T07:37:50.228844",
     "exception": false,
     "start_time": "2023-01-24T07:37:50.120916",
     "status": "completed"
    },
    "tags": []
   },
   "outputs": [
    {
     "data": {
      "text/plain": [
       "array([2, 4, 3, 1, 0])"
      ]
     },
     "execution_count": 17,
     "metadata": {},
     "output_type": "execute_result"
    }
   ],
   "source": [
    "bfs.stay_in_current_city_years=bfs.stay_in_current_city_years.replace(\"4+\",'4').astype(int)\n",
    "bfs.stay_in_current_city_years.unique()"
   ]
  },
  {
   "cell_type": "markdown",
   "id": "c7f82c7a",
   "metadata": {
    "papermill": {
     "duration": 0.017015,
     "end_time": "2023-01-24T07:37:50.262970",
     "exception": false,
     "start_time": "2023-01-24T07:37:50.245955",
     "status": "completed"
    },
    "tags": []
   },
   "source": [
    "Here, we got 0, 1, 2, 3, 4 years which integer values."
   ]
  },
  {
   "cell_type": "code",
   "execution_count": 18,
   "id": "f0454153",
   "metadata": {
    "papermill": {
     "duration": 0.031438,
     "end_time": "2023-01-24T07:37:50.345200",
     "exception": false,
     "start_time": "2023-01-24T07:37:50.313762",
     "status": "completed"
    },
    "tags": []
   },
   "outputs": [
    {
     "data": {
      "text/plain": [
       "array([0, 1])"
      ]
     },
     "execution_count": 18,
     "metadata": {},
     "output_type": "execute_result"
    }
   ],
   "source": [
    "bfs.marital_status.unique()"
   ]
  },
  {
   "cell_type": "code",
   "execution_count": 19,
   "id": "607db61f",
   "metadata": {
    "papermill": {
     "duration": 0.035804,
     "end_time": "2023-01-24T07:37:50.467225",
     "exception": false,
     "start_time": "2023-01-24T07:37:50.431421",
     "status": "completed"
    },
    "tags": []
   },
   "outputs": [
    {
     "data": {
      "text/html": [
       "<div>\n",
       "<style scoped>\n",
       "    .dataframe tbody tr th:only-of-type {\n",
       "        vertical-align: middle;\n",
       "    }\n",
       "\n",
       "    .dataframe tbody tr th {\n",
       "        vertical-align: top;\n",
       "    }\n",
       "\n",
       "    .dataframe thead th {\n",
       "        text-align: right;\n",
       "    }\n",
       "</style>\n",
       "<table border=\"1\" class=\"dataframe\">\n",
       "  <thead>\n",
       "    <tr style=\"text-align: right;\">\n",
       "      <th></th>\n",
       "      <th>user_id</th>\n",
       "      <th>product_id</th>\n",
       "      <th>gender</th>\n",
       "      <th>age</th>\n",
       "      <th>occupation</th>\n",
       "      <th>city_category</th>\n",
       "      <th>stay_in_current_city_years</th>\n",
       "      <th>marital_status</th>\n",
       "      <th>product_category_1</th>\n",
       "      <th>product_category_2</th>\n",
       "      <th>product_category_3</th>\n",
       "      <th>purchase</th>\n",
       "    </tr>\n",
       "  </thead>\n",
       "  <tbody>\n",
       "    <tr>\n",
       "      <th>0</th>\n",
       "      <td>1000001</td>\n",
       "      <td>P00069042</td>\n",
       "      <td>F</td>\n",
       "      <td>0-17</td>\n",
       "      <td>10</td>\n",
       "      <td>A</td>\n",
       "      <td>2</td>\n",
       "      <td>0</td>\n",
       "      <td>3</td>\n",
       "      <td>NaN</td>\n",
       "      <td>NaN</td>\n",
       "      <td>8370</td>\n",
       "    </tr>\n",
       "    <tr>\n",
       "      <th>1</th>\n",
       "      <td>1000001</td>\n",
       "      <td>P00248942</td>\n",
       "      <td>F</td>\n",
       "      <td>0-17</td>\n",
       "      <td>10</td>\n",
       "      <td>A</td>\n",
       "      <td>2</td>\n",
       "      <td>0</td>\n",
       "      <td>1</td>\n",
       "      <td>6.0</td>\n",
       "      <td>14.0</td>\n",
       "      <td>15200</td>\n",
       "    </tr>\n",
       "  </tbody>\n",
       "</table>\n",
       "</div>"
      ],
      "text/plain": [
       "   user_id product_id gender   age  occupation city_category  \\\n",
       "0  1000001  P00069042      F  0-17          10             A   \n",
       "1  1000001  P00248942      F  0-17          10             A   \n",
       "\n",
       "   stay_in_current_city_years  marital_status  product_category_1  \\\n",
       "0                           2               0                   3   \n",
       "1                           2               0                   1   \n",
       "\n",
       "   product_category_2  product_category_3  purchase  \n",
       "0                 NaN                 NaN      8370  \n",
       "1                 6.0                14.0     15200  "
      ]
     },
     "execution_count": 19,
     "metadata": {},
     "output_type": "execute_result"
    }
   ],
   "source": [
    "bfs.head(2)"
   ]
  },
  {
   "cell_type": "code",
   "execution_count": 20,
   "id": "609dcb81",
   "metadata": {
    "papermill": {
     "duration": 0.062441,
     "end_time": "2023-01-24T07:37:50.581641",
     "exception": false,
     "start_time": "2023-01-24T07:37:50.519200",
     "status": "completed"
    },
    "tags": []
   },
   "outputs": [
    {
     "name": "stdout",
     "output_type": "stream",
     "text": [
      "<class 'pandas.core.frame.DataFrame'>\n",
      "RangeIndex: 550068 entries, 0 to 550067\n",
      "Data columns (total 3 columns):\n",
      " #   Column              Non-Null Count   Dtype  \n",
      "---  ------              --------------   -----  \n",
      " 0   product_category_1  550068 non-null  int64  \n",
      " 1   product_category_2  376430 non-null  float64\n",
      " 2   product_category_3  166821 non-null  float64\n",
      "dtypes: float64(2), int64(1)\n",
      "memory usage: 12.6 MB\n"
     ]
    }
   ],
   "source": [
    "bfs[['product_category_1','product_category_2','product_category_3']].info()"
   ]
  },
  {
   "cell_type": "markdown",
   "id": "d20de056",
   "metadata": {
    "papermill": {
     "duration": 0.017426,
     "end_time": "2023-01-24T07:37:50.616849",
     "exception": false,
     "start_time": "2023-01-24T07:37:50.599423",
     "status": "completed"
    },
    "tags": []
   },
   "source": [
    "Notice that product category having NaN values or empty values. Let's try to fill them by seeing another columns info."
   ]
  },
  {
   "cell_type": "code",
   "execution_count": 21,
   "id": "18ee2457",
   "metadata": {
    "papermill": {
     "duration": 0.0363,
     "end_time": "2023-01-24T07:37:50.670828",
     "exception": false,
     "start_time": "2023-01-24T07:37:50.634528",
     "status": "completed"
    },
    "tags": []
   },
   "outputs": [
    {
     "data": {
      "text/html": [
       "<div>\n",
       "<style scoped>\n",
       "    .dataframe tbody tr th:only-of-type {\n",
       "        vertical-align: middle;\n",
       "    }\n",
       "\n",
       "    .dataframe tbody tr th {\n",
       "        vertical-align: top;\n",
       "    }\n",
       "\n",
       "    .dataframe thead th {\n",
       "        text-align: right;\n",
       "    }\n",
       "</style>\n",
       "<table border=\"1\" class=\"dataframe\">\n",
       "  <thead>\n",
       "    <tr style=\"text-align: right;\">\n",
       "      <th></th>\n",
       "      <th>user_id</th>\n",
       "      <th>product_id</th>\n",
       "      <th>gender</th>\n",
       "      <th>age</th>\n",
       "      <th>occupation</th>\n",
       "      <th>city_category</th>\n",
       "      <th>stay_in_current_city_years</th>\n",
       "      <th>marital_status</th>\n",
       "      <th>product_category_1</th>\n",
       "      <th>product_category_2</th>\n",
       "      <th>product_category_3</th>\n",
       "      <th>purchase</th>\n",
       "    </tr>\n",
       "  </thead>\n",
       "  <tbody>\n",
       "    <tr>\n",
       "      <th>0</th>\n",
       "      <td>1000001</td>\n",
       "      <td>P00069042</td>\n",
       "      <td>F</td>\n",
       "      <td>0-17</td>\n",
       "      <td>10</td>\n",
       "      <td>A</td>\n",
       "      <td>2</td>\n",
       "      <td>0</td>\n",
       "      <td>3</td>\n",
       "      <td>NaN</td>\n",
       "      <td>NaN</td>\n",
       "      <td>8370</td>\n",
       "    </tr>\n",
       "    <tr>\n",
       "      <th>1</th>\n",
       "      <td>1000001</td>\n",
       "      <td>P00248942</td>\n",
       "      <td>F</td>\n",
       "      <td>0-17</td>\n",
       "      <td>10</td>\n",
       "      <td>A</td>\n",
       "      <td>2</td>\n",
       "      <td>0</td>\n",
       "      <td>1</td>\n",
       "      <td>6.0</td>\n",
       "      <td>14.0</td>\n",
       "      <td>15200</td>\n",
       "    </tr>\n",
       "  </tbody>\n",
       "</table>\n",
       "</div>"
      ],
      "text/plain": [
       "   user_id product_id gender   age  occupation city_category  \\\n",
       "0  1000001  P00069042      F  0-17          10             A   \n",
       "1  1000001  P00248942      F  0-17          10             A   \n",
       "\n",
       "   stay_in_current_city_years  marital_status  product_category_1  \\\n",
       "0                           2               0                   3   \n",
       "1                           2               0                   1   \n",
       "\n",
       "   product_category_2  product_category_3  purchase  \n",
       "0                 NaN                 NaN      8370  \n",
       "1                 6.0                14.0     15200  "
      ]
     },
     "execution_count": 21,
     "metadata": {},
     "output_type": "execute_result"
    }
   ],
   "source": [
    "bfs.head(2)"
   ]
  },
  {
   "cell_type": "code",
   "execution_count": 22,
   "id": "26bfe15a",
   "metadata": {
    "papermill": {
     "duration": 0.248368,
     "end_time": "2023-01-24T07:37:50.973105",
     "exception": false,
     "start_time": "2023-01-24T07:37:50.724737",
     "status": "completed"
    },
    "tags": []
   },
   "outputs": [],
   "source": [
    "a=bfs.groupby('age')['product_category_2'].agg(pd.Series.mode)\n",
    "b=bfs.groupby('age')['product_category_3'].agg(pd.Series.mode)\n",
    "c=bfs.groupby('occupation')['product_category_2'].agg(pd.Series.mode)\n",
    "d=bfs.groupby('occupation')['product_category_3'].agg(pd.Series.mode)"
   ]
  },
  {
   "cell_type": "code",
   "execution_count": 23,
   "id": "664aac06",
   "metadata": {
    "papermill": {
     "duration": 0.725205,
     "end_time": "2023-01-24T07:37:51.806713",
     "exception": false,
     "start_time": "2023-01-24T07:37:51.081508",
     "status": "completed"
    },
    "tags": []
   },
   "outputs": [
    {
     "data": {
      "image/png": "[encoded data removed]",
      "text/plain": [
       "<Figure size 1800x1000 with 4 Axes>"
      ]
     },
     "metadata": {},
     "output_type": "display_data"
    }
   ],
   "source": [
    "plt.figure(figsize=(18,10))\n",
    "plt.subplots_adjust(left=0.1,\n",
    "                    bottom=0.1,\n",
    "                    right=0.9,\n",
    "                    top=0.9,\n",
    "                    wspace=0.4,\n",
    "                    hspace=0.4)\n",
    "plt.subplot(2,2,1)\n",
    "a.plot(kind='bar',title=\"age_vs_product_category_2\")\n",
    "plt.subplot(2,2,2)\n",
    "b.plot(kind='bar',title=\"age_vs_product_category_3\")\n",
    "plt.subplot(2,2,3)\n",
    "c.plot(kind='bar',title=\"occupation_vs_product_category_2\")\n",
    "plt.subplot(2,2,4)\n",
    "d.plot(kind='bar',title=\"occupation_vs_product_category_3\")\n",
    "plt.show()\n",
    "\n",
    "# here we trying to fill only product_category_2 and product_category_3 NaN values because product_category_1 having 0 NaN values."
   ]
  },
  {
   "cell_type": "markdown",
   "id": "0a07d5bf",
   "metadata": {
    "papermill": {
     "duration": 0.018153,
     "end_time": "2023-01-24T07:37:51.843940",
     "exception": false,
     "start_time": "2023-01-24T07:37:51.825787",
     "status": "completed"
    },
    "tags": []
   },
   "source": [
    "By comparing both '**age**' and '**occupation**' colums we can see that **on the basis of occupation we are getting more and differnt Product_categories which are mostly repeated.** \n",
    "\n",
    "So, **we can fill the nan product_category values corresponding to customer occupation.**"
   ]
  },
  {
   "cell_type": "code",
   "execution_count": 24,
   "id": "a495ab2e",
   "metadata": {
    "papermill": {
     "duration": 0.026525,
     "end_time": "2023-01-24T07:37:51.888678",
     "exception": false,
     "start_time": "2023-01-24T07:37:51.862153",
     "status": "completed"
    },
    "tags": []
   },
   "outputs": [],
   "source": [
    "def fill_nan_category(category_colunm):\n",
    "    x=bfs.groupby('occupation')[category_colunm].agg(pd.Series.mode)\n",
    "    for i,j in zip(x.index,x):\n",
    "        bfs.loc[bfs['occupation']==i,category_colunm]=bfs.loc[bfs['occupation']==i,category_colunm].fillna(j)"
   ]
  },
  {
   "cell_type": "code",
   "execution_count": 25,
   "id": "83bce41b",
   "metadata": {
    "papermill": {
     "duration": 0.491368,
     "end_time": "2023-01-24T07:37:52.398222",
     "exception": false,
     "start_time": "2023-01-24T07:37:51.906854",
     "status": "completed"
    },
    "tags": []
   },
   "outputs": [],
   "source": [
    "fill_nan_category('product_category_1')\n",
    "fill_nan_category('product_category_2')\n",
    "fill_nan_category('product_category_3')\n",
    "bfs.product_category_1=bfs.product_category_1.astype(float)"
   ]
  },
  {
   "cell_type": "code",
   "execution_count": 26,
   "id": "12c69a62",
   "metadata": {
    "papermill": {
     "duration": 0.047962,
     "end_time": "2023-01-24T07:37:52.465464",
     "exception": false,
     "start_time": "2023-01-24T07:37:52.417502",
     "status": "completed"
    },
    "tags": []
   },
   "outputs": [
    {
     "name": "stdout",
     "output_type": "stream",
     "text": [
      "<class 'pandas.core.frame.DataFrame'>\n",
      "RangeIndex: 550068 entries, 0 to 550067\n",
      "Data columns (total 3 columns):\n",
      " #   Column              Non-Null Count   Dtype  \n",
      "---  ------              --------------   -----  \n",
      " 0   product_category_1  550068 non-null  float64\n",
      " 1   product_category_2  550068 non-null  float64\n",
      " 2   product_category_3  550068 non-null  float64\n",
      "dtypes: float64(3)\n",
      "memory usage: 12.6 MB\n"
     ]
    }
   ],
   "source": [
    "bfs[['product_category_1','product_category_2','product_category_3']].info()"
   ]
  },
  {
   "cell_type": "code",
   "execution_count": 27,
   "id": "865d741c",
   "metadata": {
    "papermill": {
     "duration": 0.035733,
     "end_time": "2023-01-24T07:37:52.593016",
     "exception": false,
     "start_time": "2023-01-24T07:37:52.557283",
     "status": "completed"
    },
    "tags": []
   },
   "outputs": [
    {
     "data": {
      "text/plain": [
       "(array([ 8370, 15200,  1422, ...,   135,   123,   613], shape=(18105,)),\n",
       " np.int64(550068))"
      ]
     },
     "execution_count": 27,
     "metadata": {},
     "output_type": "execute_result"
    }
   ],
   "source": [
    "bfs.purchase.unique(),bfs.purchase.isnull().count()"
   ]
  },
  {
   "cell_type": "code",
   "execution_count": 28,
   "id": "0a9ebef0",
   "metadata": {
    "papermill": {
     "duration": 0.135141,
     "end_time": "2023-01-24T07:37:52.747243",
     "exception": false,
     "start_time": "2023-01-24T07:37:52.612102",
     "status": "completed"
    },
    "tags": []
   },
   "outputs": [
    {
     "name": "stdout",
     "output_type": "stream",
     "text": [
      "<class 'pandas.core.frame.DataFrame'>\n",
      "RangeIndex: 550068 entries, 0 to 550067\n",
      "Data columns (total 12 columns):\n",
      " #   Column                      Non-Null Count   Dtype  \n",
      "---  ------                      --------------   -----  \n",
      " 0   user_id                     550068 non-null  int64  \n",
      " 1   product_id                  550068 non-null  object \n",
      " 2   gender                      550068 non-null  object \n",
      " 3   age                         550068 non-null  object \n",
      " 4   occupation                  550068 non-null  int64  \n",
      " 5   city_category               550068 non-null  object \n",
      " 6   stay_in_current_city_years  550068 non-null  int64  \n",
      " 7   marital_status              550068 non-null  int64  \n",
      " 8   product_category_1          550068 non-null  float64\n",
      " 9   product_category_2          550068 non-null  float64\n",
      " 10  product_category_3          550068 non-null  float64\n",
      " 11  purchase                    550068 non-null  int64  \n",
      "dtypes: float64(3), int64(5), object(4)\n",
      "memory usage: 50.4+ MB\n"
     ]
    }
   ],
   "source": [
    "bfs.info()"
   ]
  },
  {
   "cell_type": "code",
   "execution_count": 29,
   "id": "afa03eb1",
   "metadata": {
    "papermill": {
     "duration": 0.039959,
     "end_time": "2023-01-24T07:37:52.806455",
     "exception": false,
     "start_time": "2023-01-24T07:37:52.766496",
     "status": "completed"
    },
    "tags": []
   },
   "outputs": [
    {
     "data": {
      "text/html": [
       "<div>\n",
       "<style scoped>\n",
       "    .dataframe tbody tr th:only-of-type {\n",
       "        vertical-align: middle;\n",
       "    }\n",
       "\n",
       "    .dataframe tbody tr th {\n",
       "        vertical-align: top;\n",
       "    }\n",
       "\n",
       "    .dataframe thead th {\n",
       "        text-align: right;\n",
       "    }\n",
       "</style>\n",
       "<table border=\"1\" class=\"dataframe\">\n",
       "  <thead>\n",
       "    <tr style=\"text-align: right;\">\n",
       "      <th></th>\n",
       "      <th>user_id</th>\n",
       "      <th>product_id</th>\n",
       "      <th>gender</th>\n",
       "      <th>age</th>\n",
       "      <th>occupation</th>\n",
       "      <th>city_category</th>\n",
       "      <th>stay_in_current_city_years</th>\n",
       "      <th>marital_status</th>\n",
       "      <th>product_category_1</th>\n",
       "      <th>product_category_2</th>\n",
       "      <th>product_category_3</th>\n",
       "      <th>purchase</th>\n",
       "    </tr>\n",
       "  </thead>\n",
       "  <tbody>\n",
       "    <tr>\n",
       "      <th>0</th>\n",
       "      <td>1000001</td>\n",
       "      <td>P00069042</td>\n",
       "      <td>F</td>\n",
       "      <td>0-17</td>\n",
       "      <td>10</td>\n",
       "      <td>A</td>\n",
       "      <td>2</td>\n",
       "      <td>0</td>\n",
       "      <td>3.0</td>\n",
       "      <td>4.0</td>\n",
       "      <td>16.0</td>\n",
       "      <td>8370</td>\n",
       "    </tr>\n",
       "    <tr>\n",
       "      <th>1</th>\n",
       "      <td>1000001</td>\n",
       "      <td>P00248942</td>\n",
       "      <td>F</td>\n",
       "      <td>0-17</td>\n",
       "      <td>10</td>\n",
       "      <td>A</td>\n",
       "      <td>2</td>\n",
       "      <td>0</td>\n",
       "      <td>1.0</td>\n",
       "      <td>6.0</td>\n",
       "      <td>14.0</td>\n",
       "      <td>15200</td>\n",
       "    </tr>\n",
       "    <tr>\n",
       "      <th>2</th>\n",
       "      <td>1000001</td>\n",
       "      <td>P00087842</td>\n",
       "      <td>F</td>\n",
       "      <td>0-17</td>\n",
       "      <td>10</td>\n",
       "      <td>A</td>\n",
       "      <td>2</td>\n",
       "      <td>0</td>\n",
       "      <td>12.0</td>\n",
       "      <td>4.0</td>\n",
       "      <td>16.0</td>\n",
       "      <td>1422</td>\n",
       "    </tr>\n",
       "    <tr>\n",
       "      <th>3</th>\n",
       "      <td>1000001</td>\n",
       "      <td>P00085442</td>\n",
       "      <td>F</td>\n",
       "      <td>0-17</td>\n",
       "      <td>10</td>\n",
       "      <td>A</td>\n",
       "      <td>2</td>\n",
       "      <td>0</td>\n",
       "      <td>12.0</td>\n",
       "      <td>14.0</td>\n",
       "      <td>16.0</td>\n",
       "      <td>1057</td>\n",
       "    </tr>\n",
       "    <tr>\n",
       "      <th>4</th>\n",
       "      <td>1000002</td>\n",
       "      <td>P00285442</td>\n",
       "      <td>M</td>\n",
       "      <td>55+</td>\n",
       "      <td>16</td>\n",
       "      <td>C</td>\n",
       "      <td>4</td>\n",
       "      <td>0</td>\n",
       "      <td>8.0</td>\n",
       "      <td>8.0</td>\n",
       "      <td>16.0</td>\n",
       "      <td>7969</td>\n",
       "    </tr>\n",
       "  </tbody>\n",
       "</table>\n",
       "</div>"
      ],
      "text/plain": [
       "   user_id product_id gender   age  occupation city_category  \\\n",
       "0  1000001  P00069042      F  0-17          10             A   \n",
       "1  1000001  P00248942      F  0-17          10             A   \n",
       "2  1000001  P00087842      F  0-17          10             A   \n",
       "3  1000001  P00085442      F  0-17          10             A   \n",
       "4  1000002  P00285442      M   55+          16             C   \n",
       "\n",
       "   stay_in_current_city_years  marital_status  product_category_1  \\\n",
       "0                           2               0                 3.0   \n",
       "1                           2               0                 1.0   \n",
       "2                           2               0                12.0   \n",
       "3                           2               0                12.0   \n",
       "4                           4               0                 8.0   \n",
       "\n",
       "   product_category_2  product_category_3  purchase  \n",
       "0                 4.0                16.0      8370  \n",
       "1                 6.0                14.0     15200  \n",
       "2                 4.0                16.0      1422  \n",
       "3                14.0                16.0      1057  \n",
       "4                 8.0                16.0      7969  "
      ]
     },
     "execution_count": 29,
     "metadata": {},
     "output_type": "execute_result"
    }
   ],
   "source": [
    "bfs.head()"
   ]
  },
  {
   "cell_type": "code",
   "execution_count": 30,
   "id": "fff5de51",
   "metadata": {
    "papermill": {
     "duration": 2.353677,
     "end_time": "2023-01-24T07:37:55.179481",
     "exception": false,
     "start_time": "2023-01-24T07:37:52.825804",
     "status": "completed"
    },
    "tags": []
   },
   "outputs": [],
   "source": [
    "bfs.to_csv('./bfs_clean_data.csv') # Saivng cleaned dataset in output directory."
   ]
  },
  {
   "cell_type": "markdown",
   "id": "351cc75e",
   "metadata": {
    "papermill": {
     "duration": 0.018792,
     "end_time": "2023-01-24T07:37:55.256164",
     "exception": false,
     "start_time": "2023-01-24T07:37:55.237372",
     "status": "completed"
    },
    "tags": []
   },
   "source": [
    "## Data Visualization"
   ]
  },
  {
   "cell_type": "code",
   "execution_count": 31,
   "id": "88ea89e2",
   "metadata": {
    "papermill": {
     "duration": 0.040048,
     "end_time": "2023-01-24T07:37:55.315583",
     "exception": false,
     "start_time": "2023-01-24T07:37:55.275535",
     "status": "completed"
    },
    "tags": []
   },
   "outputs": [
    {
     "data": {
      "text/html": [
       "<div>\n",
       "<style scoped>\n",
       "    .dataframe tbody tr th:only-of-type {\n",
       "        vertical-align: middle;\n",
       "    }\n",
       "\n",
       "    .dataframe tbody tr th {\n",
       "        vertical-align: top;\n",
       "    }\n",
       "\n",
       "    .dataframe thead th {\n",
       "        text-align: right;\n",
       "    }\n",
       "</style>\n",
       "<table border=\"1\" class=\"dataframe\">\n",
       "  <thead>\n",
       "    <tr style=\"text-align: right;\">\n",
       "      <th></th>\n",
       "      <th>user_id</th>\n",
       "      <th>product_id</th>\n",
       "      <th>gender</th>\n",
       "      <th>age</th>\n",
       "      <th>occupation</th>\n",
       "      <th>city_category</th>\n",
       "      <th>stay_in_current_city_years</th>\n",
       "      <th>marital_status</th>\n",
       "      <th>product_category_1</th>\n",
       "      <th>product_category_2</th>\n",
       "      <th>product_category_3</th>\n",
       "      <th>purchase</th>\n",
       "    </tr>\n",
       "  </thead>\n",
       "  <tbody>\n",
       "    <tr>\n",
       "      <th>0</th>\n",
       "      <td>1000001</td>\n",
       "      <td>P00069042</td>\n",
       "      <td>F</td>\n",
       "      <td>0-17</td>\n",
       "      <td>10</td>\n",
       "      <td>A</td>\n",
       "      <td>2</td>\n",
       "      <td>0</td>\n",
       "      <td>3.0</td>\n",
       "      <td>4.0</td>\n",
       "      <td>16.0</td>\n",
       "      <td>8370</td>\n",
       "    </tr>\n",
       "    <tr>\n",
       "      <th>1</th>\n",
       "      <td>1000001</td>\n",
       "      <td>P00248942</td>\n",
       "      <td>F</td>\n",
       "      <td>0-17</td>\n",
       "      <td>10</td>\n",
       "      <td>A</td>\n",
       "      <td>2</td>\n",
       "      <td>0</td>\n",
       "      <td>1.0</td>\n",
       "      <td>6.0</td>\n",
       "      <td>14.0</td>\n",
       "      <td>15200</td>\n",
       "    </tr>\n",
       "    <tr>\n",
       "      <th>2</th>\n",
       "      <td>1000001</td>\n",
       "      <td>P00087842</td>\n",
       "      <td>F</td>\n",
       "      <td>0-17</td>\n",
       "      <td>10</td>\n",
       "      <td>A</td>\n",
       "      <td>2</td>\n",
       "      <td>0</td>\n",
       "      <td>12.0</td>\n",
       "      <td>4.0</td>\n",
       "      <td>16.0</td>\n",
       "      <td>1422</td>\n",
       "    </tr>\n",
       "    <tr>\n",
       "      <th>3</th>\n",
       "      <td>1000001</td>\n",
       "      <td>P00085442</td>\n",
       "      <td>F</td>\n",
       "      <td>0-17</td>\n",
       "      <td>10</td>\n",
       "      <td>A</td>\n",
       "      <td>2</td>\n",
       "      <td>0</td>\n",
       "      <td>12.0</td>\n",
       "      <td>14.0</td>\n",
       "      <td>16.0</td>\n",
       "      <td>1057</td>\n",
       "    </tr>\n",
       "    <tr>\n",
       "      <th>4</th>\n",
       "      <td>1000002</td>\n",
       "      <td>P00285442</td>\n",
       "      <td>M</td>\n",
       "      <td>55+</td>\n",
       "      <td>16</td>\n",
       "      <td>C</td>\n",
       "      <td>4</td>\n",
       "      <td>0</td>\n",
       "      <td>8.0</td>\n",
       "      <td>8.0</td>\n",
       "      <td>16.0</td>\n",
       "      <td>7969</td>\n",
       "    </tr>\n",
       "  </tbody>\n",
       "</table>\n",
       "</div>"
      ],
      "text/plain": [
       "   user_id product_id gender   age  occupation city_category  \\\n",
       "0  1000001  P00069042      F  0-17          10             A   \n",
       "1  1000001  P00248942      F  0-17          10             A   \n",
       "2  1000001  P00087842      F  0-17          10             A   \n",
       "3  1000001  P00085442      F  0-17          10             A   \n",
       "4  1000002  P00285442      M   55+          16             C   \n",
       "\n",
       "   stay_in_current_city_years  marital_status  product_category_1  \\\n",
       "0                           2               0                 3.0   \n",
       "1                           2               0                 1.0   \n",
       "2                           2               0                12.0   \n",
       "3                           2               0                12.0   \n",
       "4                           4               0                 8.0   \n",
       "\n",
       "   product_category_2  product_category_3  purchase  \n",
       "0                 4.0                16.0      8370  \n",
       "1                 6.0                14.0     15200  \n",
       "2                 4.0                16.0      1422  \n",
       "3                14.0                16.0      1057  \n",
       "4                 8.0                16.0      7969  "
      ]
     },
     "execution_count": 31,
     "metadata": {},
     "output_type": "execute_result"
    }
   ],
   "source": [
    "bfs.head()"
   ]
  },
  {
   "cell_type": "markdown",
   "id": "0e6b7435",
   "metadata": {
    "papermill": {
     "duration": 0.019405,
     "end_time": "2023-01-24T07:37:55.354235",
     "exception": false,
     "start_time": "2023-01-24T07:37:55.334830",
     "status": "completed"
    },
    "tags": []
   },
   "source": [
    "### 1) Check Distribution and Outliers of 'purchase'"
   ]
  },
  {
   "cell_type": "code",
   "execution_count": 32,
   "id": "33f85814",
   "metadata": {
    "papermill": {
     "duration": 2.441454,
     "end_time": "2023-01-24T07:37:57.815036",
     "exception": false,
     "start_time": "2023-01-24T07:37:55.373582",
     "status": "completed"
    },
    "tags": []
   },
   "outputs": [
    {
     "data": {
      "image/png": "[encoded data removed]",
      "text/plain": [
       "<Figure size 1500x500 with 2 Axes>"
      ]
     },
     "metadata": {},
     "output_type": "display_data"
    }
   ],
   "source": [
    "plt.figure(figsize=(15,5))\n",
    "plt.subplots_adjust(left=0.1,\n",
    "                    bottom=0.1,\n",
    "                    right=1,\n",
    "                    top=0.9,\n",
    "                    wspace=0.4,\n",
    "                    hspace=0.4)\n",
    "plt.subplot(1,2,1)\n",
    "sns.kdeplot(x = bfs['purchase'])\n",
    "plt.subplot(1,2,2)\n",
    "sns.boxplot(y=bfs['purchase'])\n",
    "plt.show()"
   ]
  },
  {
   "cell_type": "markdown",
   "id": "c98b129d",
   "metadata": {
    "papermill": {
     "duration": 0.019888,
     "end_time": "2023-01-24T07:37:57.854878",
     "exception": false,
     "start_time": "2023-01-24T07:37:57.834990",
     "status": "completed"
    },
    "tags": []
   },
   "source": [
    "We observed that most of the purcahse value is between 5000 to 10000.  "
   ]
  },
  {
   "cell_type": "markdown",
   "id": "441d20c1",
   "metadata": {
    "papermill": {
     "duration": 0.019099,
     "end_time": "2023-01-24T07:37:57.932422",
     "exception": false,
     "start_time": "2023-01-24T07:37:57.913323",
     "status": "completed"
    },
    "tags": []
   },
   "source": [
    "#### 2) Find which kind of customer visits more frequently ? Male or Female?{'M','F'}."
   ]
  },
  {
   "cell_type": "code",
   "execution_count": 33,
   "id": "7bb85bac",
   "metadata": {
    "papermill": {
     "duration": 0.214417,
     "end_time": "2023-01-24T07:37:58.166490",
     "exception": false,
     "start_time": "2023-01-24T07:37:57.952073",
     "status": "completed"
    },
    "tags": []
   },
   "outputs": [
    {
     "data": {
      "image/png": "[encoded data removed]",
      "text/plain": [
       "<Figure size 500x500 with 1 Axes>"
      ]
     },
     "metadata": {},
     "output_type": "display_data"
    }
   ],
   "source": [
    "bfs.groupby('gender').agg({'gender':'count'}).gender.plot(kind='pie',autopct='%1.1f%%',figsize=(5,5),shadow=True)\n",
    "plt.show()"
   ]
  },
  {
   "cell_type": "markdown",
   "id": "4654af26",
   "metadata": {
    "papermill": {
     "duration": 0.04299,
     "end_time": "2023-01-24T07:37:58.262147",
     "exception": false,
     "start_time": "2023-01-24T07:37:58.219157",
     "status": "completed"
    },
    "tags": []
   },
   "source": [
    "We see that 75% Male customers visits us frequently."
   ]
  },
  {
   "cell_type": "markdown",
   "id": "a2aa03be",
   "metadata": {
    "papermill": {
     "duration": 0.019623,
     "end_time": "2023-01-24T07:37:58.302035",
     "exception": false,
     "start_time": "2023-01-24T07:37:58.282412",
     "status": "completed"
    },
    "tags": []
   },
   "source": [
    "#### 3) Purchase Distribution of 'Male' and 'Female' customers."
   ]
  },
  {
   "cell_type": "code",
   "execution_count": 34,
   "id": "d44eac8c",
   "metadata": {
    "papermill": {
     "duration": 0.723581,
     "end_time": "2023-01-24T07:37:59.045490",
     "exception": false,
     "start_time": "2023-01-24T07:37:58.321909",
     "status": "completed"
    },
    "tags": []
   },
   "outputs": [
    {
     "data": {
      "image/png": "[encoded data removed]",
      "text/plain": [
       "<Figure size 1000x400 with 2 Axes>"
      ]
     },
     "metadata": {},
     "output_type": "display_data"
    }
   ],
   "source": [
    "plt.figure(figsize=(10,4))\n",
    "plt.subplots_adjust(left=0.1,\n",
    "                    bottom=0.1,\n",
    "                    right=1.2,\n",
    "                    top=0.9,\n",
    "                    wspace=0.4,\n",
    "                    hspace=0.4)\n",
    "a= bfs.loc[bfs['gender']=='M','purchase']  \n",
    "b= pd.DataFrame(a.value_counts()) \n",
    "b.reset_index(inplace=True) \n",
    "c= bfs.loc[bfs['gender']=='F','purchase']  \n",
    "d= pd.DataFrame(c.value_counts()) \n",
    "d.reset_index(inplace=True) \n",
    "\n",
    "plt.subplot(1,2,1)\n",
    "sns.kdeplot(x = b['purchase']).set_title('Male')\n",
    "plt.subplot(1,2,2)\n",
    "sns.kdeplot(x = d['purchase']).set_title('Female')\n",
    "plt.show()"
   ]
  },
  {
   "cell_type": "markdown",
   "id": "fc381952",
   "metadata": {
    "papermill": {
     "duration": 0.027225,
     "end_time": "2023-01-24T07:37:59.096522",
     "exception": false,
     "start_time": "2023-01-24T07:37:59.069297",
     "status": "completed"
    },
    "tags": []
   },
   "source": [
    "#### 4) Find which kind of customer purchasing more ? Male or Female?{'M','F'}."
   ]
  },
  {
   "cell_type": "code",
   "execution_count": 35,
   "id": "a604d4e7",
   "metadata": {
    "papermill": {
     "duration": 0.200419,
     "end_time": "2023-01-24T07:37:59.322801",
     "exception": false,
     "start_time": "2023-01-24T07:37:59.122382",
     "status": "completed"
    },
    "tags": []
   },
   "outputs": [
    {
     "data": {
      "text/html": [
       "<div>\n",
       "<style scoped>\n",
       "    .dataframe tbody tr th:only-of-type {\n",
       "        vertical-align: middle;\n",
       "    }\n",
       "\n",
       "    .dataframe tbody tr th {\n",
       "        vertical-align: top;\n",
       "    }\n",
       "\n",
       "    .dataframe thead th {\n",
       "        text-align: right;\n",
       "    }\n",
       "</style>\n",
       "<table border=\"1\" class=\"dataframe\">\n",
       "  <thead>\n",
       "    <tr style=\"text-align: right;\">\n",
       "      <th></th>\n",
       "      <th>gender</th>\n",
       "      <th>purchase</th>\n",
       "    </tr>\n",
       "  </thead>\n",
       "  <tbody>\n",
       "    <tr>\n",
       "      <th>0</th>\n",
       "      <td>F</td>\n",
       "      <td>1186232642</td>\n",
       "    </tr>\n",
       "    <tr>\n",
       "      <th>1</th>\n",
       "      <td>M</td>\n",
       "      <td>3909580100</td>\n",
       "    </tr>\n",
       "  </tbody>\n",
       "</table>\n",
       "</div>"
      ],
      "text/plain": [
       "  gender    purchase\n",
       "0      F  1186232642\n",
       "1      M  3909580100"
      ]
     },
     "execution_count": 35,
     "metadata": {},
     "output_type": "execute_result"
    },
    {
     "data": {
      "image/png": "[encoded data removed]",
      "text/plain": [
       "<Figure size 640x480 with 1 Axes>"
      ]
     },
     "metadata": {},
     "output_type": "display_data"
    }
   ],
   "source": [
    "p=bfs.groupby('gender').agg({'purchase':sum}).reset_index()\n",
    "sns.barplot(x='gender',y='purchase',data=p, hue = 'gender')\n",
    "p"
   ]
  },
  {
   "cell_type": "markdown",
   "id": "5973e59d",
   "metadata": {
    "papermill": {
     "duration": 0.020466,
     "end_time": "2023-01-24T07:37:59.364630",
     "exception": false,
     "start_time": "2023-01-24T07:37:59.344164",
     "status": "completed"
    },
    "tags": []
   },
   "source": [
    "We observed that 'Male' customers are purchasing more."
   ]
  },
  {
   "cell_type": "markdown",
   "id": "15589288",
   "metadata": {
    "papermill": {
     "duration": 0.020537,
     "end_time": "2023-01-24T07:37:59.405875",
     "exception": false,
     "start_time": "2023-01-24T07:37:59.385338",
     "status": "completed"
    },
    "tags": []
   },
   "source": [
    "#### 5) Find which Product customer buying most"
   ]
  },
  {
   "cell_type": "code",
   "execution_count": 36,
   "id": "b0957c0d",
   "metadata": {
    "papermill": {
     "duration": 0.837841,
     "end_time": "2023-01-24T07:38:00.264132",
     "exception": false,
     "start_time": "2023-01-24T07:37:59.426291",
     "status": "completed"
    },
    "tags": []
   },
   "outputs": [
    {
     "data": {
      "image/png": "[encoded data removed]",
      "text/plain": [
       "<Figure size 500x1000 with 1 Axes>"
      ]
     },
     "metadata": {},
     "output_type": "display_data"
    }
   ],
   "source": [
    "p_id=bfs['product_id'].value_counts().sort_values(ascending=False).head(50)\n",
    "plt.figure(figsize=(5,10))\n",
    "sns.barplot(y = p_id.index,x=p_id, hue=p_id.index)\n",
    "plt.show()"
   ]
  },
  {
   "cell_type": "markdown",
   "id": "3c174a2e",
   "metadata": {
    "papermill": {
     "duration": 0.021163,
     "end_time": "2023-01-24T07:38:00.307421",
     "exception": false,
     "start_time": "2023-01-24T07:38:00.286258",
     "status": "completed"
    },
    "tags": []
   },
   "source": [
    "Here are the 'top 50' product_id's which are customers buying most."
   ]
  },
  {
   "cell_type": "markdown",
   "id": "8adc7b45",
   "metadata": {
    "papermill": {
     "duration": 0.021199,
     "end_time": "2023-01-24T07:38:00.349332",
     "exception": false,
     "start_time": "2023-01-24T07:38:00.328133",
     "status": "completed"
    },
    "tags": []
   },
   "source": [
    "#### 6) Find 'sub_product' which is selling most from each product_category and which customer category buying that product most?{'M','F'}."
   ]
  },
  {
   "cell_type": "code",
   "execution_count": 37,
   "id": "0d8ce490",
   "metadata": {
    "papermill": {
     "duration": 1.469685,
     "end_time": "2023-01-24T07:38:01.840442",
     "exception": false,
     "start_time": "2023-01-24T07:38:00.370757",
     "status": "completed"
    },
    "tags": []
   },
   "outputs": [
    {
     "data": {
      "image/png": "[encoded data removed]",
      "text/plain": [
       "<Figure size 1500x500 with 3 Axes>"
      ]
     },
     "metadata": {},
     "output_type": "display_data"
    }
   ],
   "source": [
    "c1 = bfs.groupby('gender')['product_category_1'].value_counts().to_frame().reset_index()\n",
    "c1.rename(columns={\"count\": \"p_count\"}, inplace=True)\n",
    "\n",
    "c2 = bfs.groupby('gender')['product_category_2'].value_counts().to_frame().reset_index()\n",
    "c2.rename(columns={\"count\": \"p_count\"}, inplace=True)\n",
    "\n",
    "c3 = bfs.groupby('gender')['product_category_3'].value_counts().to_frame().reset_index()\n",
    "c3.rename(columns={\"count\": \"p_count\"}, inplace=True)\n",
    "\n",
    "plt.figure(figsize=(15,5))\n",
    "plt.subplots_adjust(left=0.1,\n",
    "                    bottom=0.1,\n",
    "                    right=1.2,\n",
    "                    top=0.9,\n",
    "                    wspace=0.4,\n",
    "                    hspace=0.4)\n",
    "plt.subplot(1,3,1)\n",
    "sns.barplot(x='product_category_1',y='p_count',hue='gender',data=c1)\n",
    "plt.subplot(1,3,2)\n",
    "sns.barplot(x='product_category_2',y='p_count',hue='gender',data=c2)\n",
    "plt.subplot(1,3,3)\n",
    "sns.barplot(x='product_category_3',y='p_count',hue='gender',data=c3)\n",
    "plt.show()"
   ]
  },
  {
   "cell_type": "markdown",
   "id": "05f8e657",
   "metadata": {
    "papermill": {
     "duration": 0.022153,
     "end_time": "2023-01-24T07:38:01.885452",
     "exception": false,
     "start_time": "2023-01-24T07:38:01.863299",
     "status": "completed"
    },
    "tags": []
   },
   "source": [
    "Here we can see, we have three product_categories and on x-axis we having some values that are nothing but sub_products of that product_category in masked format.\n",
    "\n",
    "The graph showing that the sub_product count and the two colours bar are showing that the customer category count wich are buying that product.\n",
    "\n",
    "We observed that there are some sub_product's selling count is high and most of the 'Male' customers buying that product."
   ]
  },
  {
   "cell_type": "markdown",
   "id": "6602a087",
   "metadata": {
    "papermill": {
     "duration": 0.02145,
     "end_time": "2023-01-24T07:38:01.972386",
     "exception": false,
     "start_time": "2023-01-24T07:38:01.950936",
     "status": "completed"
    },
    "tags": []
   },
   "source": [
    "#### 7) Purchase Distribution of Married and UnMarried customers."
   ]
  },
  {
   "cell_type": "code",
   "execution_count": 38,
   "id": "6743a541",
   "metadata": {
    "papermill": {
     "duration": 0.616237,
     "end_time": "2023-01-24T07:38:02.609993",
     "exception": false,
     "start_time": "2023-01-24T07:38:01.993756",
     "status": "completed"
    },
    "tags": []
   },
   "outputs": [
    {
     "data": {
      "image/png": "[encoded data removed]",
      "text/plain": [
       "<Figure size 1000x400 with 2 Axes>"
      ]
     },
     "metadata": {},
     "output_type": "display_data"
    }
   ],
   "source": [
    "UM_P1= bfs.loc[bfs['marital_status']==0,'purchase']  \n",
    "UM_P= pd.DataFrame(UM_P1.value_counts())\n",
    "UM_P.reset_index(inplace=True)  \n",
    "M_P1= bfs.loc[bfs['marital_status']==1,'purchase']  \n",
    "M_P= pd.DataFrame(M_P1.value_counts()) \n",
    "M_P.reset_index(inplace=True) \n",
    "\n",
    "\n",
    "plt.figure(figsize=(10,4))\n",
    "plt.subplots_adjust(left=0.1,\n",
    "                    bottom=0.1,\n",
    "                    right=1.2,\n",
    "                    top=0.9,\n",
    "                    wspace=0.4,\n",
    "                    hspace=0.4)\n",
    "plt.subplot(1,2,1)\n",
    "sns.kdeplot(UM_P['purchase']).set_title('UnMarried')\n",
    "plt.subplot(1,2,2)\n",
    "sns.kdeplot(M_P['purchase']).set_title('Married')\n",
    "plt.show()"
   ]
  },
  {
   "cell_type": "markdown",
   "id": "aef40e10",
   "metadata": {
    "papermill": {
     "duration": 0.022658,
     "end_time": "2023-01-24T07:38:02.656072",
     "exception": false,
     "start_time": "2023-01-24T07:38:02.633414",
     "status": "completed"
    },
    "tags": []
   },
   "source": [
    "Purchase distribution of both 'Married' and 'UnMarried' customers are quitely same."
   ]
  },
  {
   "cell_type": "markdown",
   "id": "4224ab90",
   "metadata": {
    "papermill": {
     "duration": 0.023373,
     "end_time": "2023-01-24T07:38:02.702429",
     "exception": false,
     "start_time": "2023-01-24T07:38:02.679056",
     "status": "completed"
    },
    "tags": []
   },
   "source": [
    "#### 8) Find which customer visits more frequently ? UnMarried or Married? {'UnMarried': 0, 'Married': 1}."
   ]
  },
  {
   "cell_type": "code",
   "execution_count": 39,
   "id": "d9e2b6b5",
   "metadata": {
    "papermill": {
     "duration": 0.155934,
     "end_time": "2023-01-24T07:38:02.881252",
     "exception": false,
     "start_time": "2023-01-24T07:38:02.725318",
     "status": "completed"
    },
    "tags": []
   },
   "outputs": [
    {
     "data": {
      "image/png": "[encoded data removed]",
      "text/plain": [
       "<Figure size 500x500 with 1 Axes>"
      ]
     },
     "metadata": {},
     "output_type": "display_data"
    }
   ],
   "source": [
    "bfs.groupby('marital_status').agg({'marital_status':'count'}).marital_status.plot(kind='pie',autopct='%1.1f%%',figsize=(5,5),shadow=True)\n",
    "plt.show()"
   ]
  },
  {
   "cell_type": "markdown",
   "id": "0f4f6dc5",
   "metadata": {
    "papermill": {
     "duration": 0.031593,
     "end_time": "2023-01-24T07:38:02.971940",
     "exception": false,
     "start_time": "2023-01-24T07:38:02.940347",
     "status": "completed"
    },
    "tags": []
   },
   "source": [
    "We observed that 'UnMarried' customers Visiting us frequently. And we have 'Married' customer in large amount as well."
   ]
  },
  {
   "cell_type": "markdown",
   "id": "649321a6",
   "metadata": {
    "papermill": {
     "duration": 0.022258,
     "end_time": "2023-01-24T07:38:03.016880",
     "exception": false,
     "start_time": "2023-01-24T07:38:02.994622",
     "status": "completed"
    },
    "tags": []
   },
   "source": [
    "#### 9) Find which customer purchasing more (Married or UnMarried) and Top 10 products purcahsed by them."
   ]
  },
  {
   "cell_type": "code",
   "execution_count": 40,
   "id": "49e5990b",
   "metadata": {
    "papermill": {
     "duration": 0.044007,
     "end_time": "2023-01-24T07:38:03.084098",
     "exception": false,
     "start_time": "2023-01-24T07:38:03.040091",
     "status": "completed"
    },
    "tags": []
   },
   "outputs": [
    {
     "data": {
      "text/html": [
       "<div>\n",
       "<style scoped>\n",
       "    .dataframe tbody tr th:only-of-type {\n",
       "        vertical-align: middle;\n",
       "    }\n",
       "\n",
       "    .dataframe tbody tr th {\n",
       "        vertical-align: top;\n",
       "    }\n",
       "\n",
       "    .dataframe thead th {\n",
       "        text-align: right;\n",
       "    }\n",
       "</style>\n",
       "<table border=\"1\" class=\"dataframe\">\n",
       "  <thead>\n",
       "    <tr style=\"text-align: right;\">\n",
       "      <th></th>\n",
       "      <th>user_id</th>\n",
       "      <th>product_id</th>\n",
       "      <th>gender</th>\n",
       "      <th>age</th>\n",
       "      <th>occupation</th>\n",
       "      <th>city_category</th>\n",
       "      <th>stay_in_current_city_years</th>\n",
       "      <th>marital_status</th>\n",
       "      <th>product_category_1</th>\n",
       "      <th>product_category_2</th>\n",
       "      <th>product_category_3</th>\n",
       "      <th>purchase</th>\n",
       "    </tr>\n",
       "  </thead>\n",
       "  <tbody>\n",
       "    <tr>\n",
       "      <th>0</th>\n",
       "      <td>1000001</td>\n",
       "      <td>P00069042</td>\n",
       "      <td>F</td>\n",
       "      <td>0-17</td>\n",
       "      <td>10</td>\n",
       "      <td>A</td>\n",
       "      <td>2</td>\n",
       "      <td>0</td>\n",
       "      <td>3.0</td>\n",
       "      <td>4.0</td>\n",
       "      <td>16.0</td>\n",
       "      <td>8370</td>\n",
       "    </tr>\n",
       "  </tbody>\n",
       "</table>\n",
       "</div>"
      ],
      "text/plain": [
       "   user_id product_id gender   age  occupation city_category  \\\n",
       "0  1000001  P00069042      F  0-17          10             A   \n",
       "\n",
       "   stay_in_current_city_years  marital_status  product_category_1  \\\n",
       "0                           2               0                 3.0   \n",
       "\n",
       "   product_category_2  product_category_3  purchase  \n",
       "0                 4.0                16.0      8370  "
      ]
     },
     "execution_count": 40,
     "metadata": {},
     "output_type": "execute_result"
    }
   ],
   "source": [
    "bfs.head(1)"
   ]
  },
  {
   "cell_type": "code",
   "execution_count": 41,
   "id": "3ee42976",
   "metadata": {
    "papermill": {
     "duration": 0.737728,
     "end_time": "2023-01-24T07:38:03.845116",
     "exception": false,
     "start_time": "2023-01-24T07:38:03.107388",
     "status": "completed"
    },
    "tags": []
   },
   "outputs": [
    {
     "data": {
      "text/html": [
       "<div>\n",
       "<style scoped>\n",
       "    .dataframe tbody tr th:only-of-type {\n",
       "        vertical-align: middle;\n",
       "    }\n",
       "\n",
       "    .dataframe tbody tr th {\n",
       "        vertical-align: top;\n",
       "    }\n",
       "\n",
       "    .dataframe thead th {\n",
       "        text-align: right;\n",
       "    }\n",
       "</style>\n",
       "<table border=\"1\" class=\"dataframe\">\n",
       "  <thead>\n",
       "    <tr style=\"text-align: right;\">\n",
       "      <th></th>\n",
       "      <th>gender</th>\n",
       "      <th>marital_status</th>\n",
       "      <th>purchase</th>\n",
       "    </tr>\n",
       "  </thead>\n",
       "  <tbody>\n",
       "    <tr>\n",
       "      <th>0</th>\n",
       "      <td>F</td>\n",
       "      <td>0</td>\n",
       "      <td>684154127</td>\n",
       "    </tr>\n",
       "    <tr>\n",
       "      <th>1</th>\n",
       "      <td>F</td>\n",
       "      <td>1</td>\n",
       "      <td>502078515</td>\n",
       "    </tr>\n",
       "    <tr>\n",
       "      <th>2</th>\n",
       "      <td>M</td>\n",
       "      <td>0</td>\n",
       "      <td>2324773320</td>\n",
       "    </tr>\n",
       "    <tr>\n",
       "      <th>3</th>\n",
       "      <td>M</td>\n",
       "      <td>1</td>\n",
       "      <td>1584806780</td>\n",
       "    </tr>\n",
       "  </tbody>\n",
       "</table>\n",
       "</div>"
      ],
      "text/plain": [
       "  gender  marital_status    purchase\n",
       "0      F               0   684154127\n",
       "1      F               1   502078515\n",
       "2      M               0  2324773320\n",
       "3      M               1  1584806780"
      ]
     },
     "execution_count": 41,
     "metadata": {},
     "output_type": "execute_result"
    },
    {
     "data": {
      "image/png": "[encoded data removed]",
      "text/plain": [
       "<Figure size 640x480 with 3 Axes>"
      ]
     },
     "metadata": {},
     "output_type": "display_data"
    }
   ],
   "source": [
    "M_UM_P=bfs.groupby(['gender','marital_status']).agg({'purchase':sum}).reset_index()\n",
    "UM=bfs[bfs['marital_status']==0].value_counts('product_id').nlargest(10)\n",
    "M=bfs[bfs['marital_status']==1].value_counts('product_id').nlargest(10)\n",
    "plt.subplots_adjust(left=1,\n",
    "                    bottom=1,\n",
    "                    right=3,\n",
    "                    top=3,\n",
    "                    wspace=0.4,\n",
    "                    hspace=0.4)\n",
    "plt.subplot(2,2,1)\n",
    "sns.barplot(x='marital_status',y='purchase',hue='gender',data=M_UM_P)\n",
    "plt.subplot(2,2,3)\n",
    "UM.plot(x=UM.index,y=UM,kind='bar',title='UnMarried_Customer')\n",
    "plt.subplot(2,2,4)\n",
    "M.plot(x=M.index,y=M,kind='bar',title='Married_Customer')\n",
    "M_UM_P"
   ]
  },
  {
   "cell_type": "markdown",
   "id": "ef582e5b",
   "metadata": {
    "papermill": {
     "duration": 0.023877,
     "end_time": "2023-01-24T07:38:03.893155",
     "exception": false,
     "start_time": "2023-01-24T07:38:03.869278",
     "status": "completed"
    },
    "tags": []
   },
   "source": [
    "In the above plot we can see that 'UnMarried' customers purchasing more than the 'Married' customers.\n",
    "\n",
    "And BarPlot showing that top 10 Product Id's purshased by them frequently."
   ]
  },
  {
   "cell_type": "markdown",
   "id": "628461ba",
   "metadata": {
    "papermill": {
     "duration": 0.023504,
     "end_time": "2023-01-24T07:38:03.942946",
     "exception": false,
     "start_time": "2023-01-24T07:38:03.919442",
     "status": "completed"
    },
    "tags": []
   },
   "source": [
    "## Conclusion:\n"
   ]
  },
  {
   "cell_type": "markdown",
   "id": "63aa4745-0201-4aa1-b996-92c9df0fef0b",
   "metadata": {
    "papermill": {
     "duration": 0.023699,
     "end_time": "2023-01-24T07:38:03.990600",
     "exception": false,
     "start_time": "2023-01-24T07:38:03.966901",
     "status": "completed"
    },
    "tags": []
   },
   "source": [
    "This analysis explores customer behavior and purchase patterns during Black Friday sales\n",
    "\n",
    "- Gender Distribution:\n",
    "Male shoppers significantly outnumber female shoppers. Potential opportunity to increase female customer engagement.\n",
    "\n",
    "- Age Insights: Peak shopping demographic: 26-35 age group. Suggests marketing focus on young professionals.\n",
    "\n",
    "- Marital Status:\n",
    "Singles (Marital Status 0) were the largest group of shoppers, suggesting that singles are a major demographic during Black Friday."
   ]
  },
  {
   "cell_type": "code",
   "execution_count": null,
   "id": "2bbde1a2-1c74-4e7d-8229-8e4a03fc32fc",
   "metadata": {},
   "outputs": [],
   "source": []
  },
  {
   "cell_type": "code",
   "execution_count": null,
   "id": "06aeb209-092a-407e-b3ec-0a826b5ceb32",
   "metadata": {},
   "outputs": [],
   "source": []
  }
 ],
 "metadata": {
  "kernelspec": {
   "display_name": "Python 3 (ipykernel)",
   "language": "python",
   "name": "python3"
  },
  "language_info": {
   "codemirror_mode": {
    "name": "ipython",
    "version": 3
   },
   "file_extension": ".py",
   "mimetype": "text/x-python",
   "name": "python",
   "nbconvert_exporter": "python",
   "pygments_lexer": "ipython3",
   "version": "3.13.2"
  },
  "papermill": {
   "default_parameters": {},
   "duration": 27.786172,
   "end_time": "2023-01-24T07:38:04.735326",
   "environment_variables": {},
   "exception": null,
   "input_path": "__notebook__.ipynb",
   "output_path": "__notebook__.ipynb",
   "parameters": {},
   "start_time": "2023-01-24T07:37:36.949154",
   "version": "2.3.4"
  }
 },
 "nbformat": 4,
 "nbformat_minor": 5
}
